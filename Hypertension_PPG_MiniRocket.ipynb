{
 "cells": [
  {
   "cell_type": "markdown",
   "id": "c4f1f508",
   "metadata": {},
   "source": [
    "# Hypertension Detection From High-Dimensional Representation of Photoplethysmogram (PPG) Signals\n",
    "\n",
    "Accepted at IEEE-EMBS International Conference on Biomedical and Health Informatics (BHI’23)\n",
    "\n",
    "Hypertension is commonly referred to as the \"silent killer\", since it can lead to severe health complications without any visible symptoms. Early detection of hypertension is crucial in preventing significant health issues. Although some studies suggest a relationship between blood pressure and certain vital signals, such as Photoplethysmogram (PPG), reliable generalization of the proposed blood pressure estimation methods is not yet guaranteed. This lack of certainty has resulted in some studies doubting the existence of such relationships, or considering them weak and limited to heart rate and blood pressure. In this work, a high-dimensional representation technique based on random convolution kernels is proposed for hypertension detection using PPG signals. The results show that this relationship extends beyond heart rate and blood pressure, demonstrating the feasibility of hypertension detection with generalization on unseen subjects. Additionally, the utilized transform using convolution kernels, as an end-to-end time-series feature extractor, outperforms the methods proposed in the previous studies and state-of-the-art deep learning models.\n",
    "\n",
    "This notebook provides the code for training and testing a model to detect hypertension from PPG signals using random convolution kernels (MiniROCKET).\n",
    "\n",
    "[Paper: arXiv:2308.02425](https://arxiv.org/abs/2308.02425)\n",
    "\n",
    "\n",
    "Please use the following citation:\n",
    "\n",
    "```bibtex\n",
    "@misc{hasanzadeh2023hypertension,\n",
    "      title={Hypertension Detection From High-Dimensional Representation of Photoplethysmogram Signals}, \n",
    "      author={Navid Hasanzadeh and Shahrokh Valaee and Hojjat Salehinejad},\n",
    "      year={2023},\n",
    "      eprint={2308.02425},\n",
    "      archivePrefix={arXiv},\n",
    "      primaryClass={eess.SP}\n",
    "}\n",
    "```\n",
    "\n"
   ]
  },
  {
   "cell_type": "markdown",
   "id": "74eab80a",
   "metadata": {},
   "source": [
    "## Parameters"
   ]
  },
  {
   "cell_type": "code",
   "execution_count": 1,
   "id": "647f1be2",
   "metadata": {},
   "outputs": [],
   "source": [
    "# The ratio of the training set (with 1 million samples) that will be used for training the models.\n",
    "# Values near 1.0 -> Take longer and require more RAM (1.0 requires about 400GB), but yield higher accuracy.\n",
    "# See our paper for more details.\n",
    "training_data_ratio = 0.10\n",
    "# The dataset location\n",
    "train_records_adr = \"train/*.tfrecord\"\n",
    "test_records_adr = \"test/*.tfrecord\""
   ]
  },
  {
   "cell_type": "markdown",
   "id": "55e852a3",
   "metadata": {},
   "source": [
    "## Importing Libraries"
   ]
  },
  {
   "cell_type": "code",
   "execution_count": 2,
   "id": "aaf2cc26",
   "metadata": {},
   "outputs": [],
   "source": [
    "import h5py\n",
    "import tensorflow as tf\n",
    "from pyampd.ampd import find_peaks\n",
    "import glob\n",
    "from tqdm import tqdm\n",
    "import numpy as np"
   ]
  },
  {
   "cell_type": "markdown",
   "id": "053dfb0e",
   "metadata": {},
   "source": [
    "## Preparing and Loading Dataset"
   ]
  },
  {
   "cell_type": "markdown",
   "id": "3c86f10b",
   "metadata": {},
   "source": [
    "In this study, the PPG signals and corresponding BPs derived from the MIMIC-III dataset are used. The BP values are categorized into normal and hypertension classes based on ESC/ESH guidelines. This dataset comprises $3750$ subjects for training and $625$ subjects for testing. The training and test datasets are standardized and divided at subject level to avoid any overlap. There are $1,000,000$ PPG signals for training, $250,000$ samples for validation, and $250,000$ samples for testing. Each PPG sample has a duration of $7$ seconds, and the sampling rate is $125$ Hz. \n",
    "\n",
    "\n",
    "The dataset can be downloaded from :\n",
    "\n",
    "https://zenodo.org/record/5590603/files/MIMIC-III_ppg_dataset.h5?download=1.\n",
    "\n",
    "The size of the dataset is approximately 32 GB. You need to convert the h5 file to tfrecords using h5_to_tfrecord.py:\n",
    "\n",
    "https://github.com/Fabian-Sc85/non-invasive-bp-estimation-using-deep-learning/tree/main"
   ]
  },
  {
   "cell_type": "code",
   "execution_count": 3,
   "id": "5315b758",
   "metadata": {},
   "outputs": [],
   "source": [
    "def get_hypertension_label(sysBP,diaBP):\n",
    "    if(sysBP<120 and diaBP<80):\n",
    "        return 0\n",
    "    if((sysBP>=120 and sysBP<=129) or (diaBP>=80 and diaBP<=84)):\n",
    "        return 0\n",
    "    if((sysBP>=130 and sysBP<=139) or (diaBP>=85 and diaBP<=89)):\n",
    "        return 0\n",
    "    if((sysBP>=140 and sysBP<=159) or (diaBP>=90 and diaBP<=99)):\n",
    "        return 1\n",
    "    if((sysBP>=160 and sysBP<=179) or (diaBP>=100 and diaBP<=109)):\n",
    "        return 1\n",
    "    if(sysBP>=180 or diaBP>110):\n",
    "        return 1    \n",
    "    return 1"
   ]
  },
  {
   "cell_type": "code",
   "execution_count": 4,
   "id": "e751354d",
   "metadata": {},
   "outputs": [],
   "source": [
    "def get_mimiciii_record(filename, fs=125):\n",
    "  raw_dataset = tf.data.TFRecordDataset([filename])\n",
    "  dset = raw_dataset.take(count=1000)\n",
    "  example = tf.train.Example()\n",
    "  dset_list = list(dset)\n",
    "  ppg_records = []\n",
    "  sys_records = []\n",
    "  dia_records = []\n",
    "  bp_records = []\n",
    "  hr_records = []\n",
    "  for i in range(len(list(dset))):\n",
    "    element = dset_list[i]\n",
    "    example.ParseFromString(element.numpy())\n",
    "    ppg = np.array(example.features.feature['ppg'].float_list.value)\n",
    "    ppg = ppg - np.mean(ppg)\n",
    "    ppg = ppg / np.std(ppg)\n",
    "    sys = np.max(example.features.feature['label'].float_list.value)\n",
    "    dia = np.min(example.features.feature['label'].float_list.value)\n",
    "    onsets = find_peaks(ppg) # using AMPD algorithm for peak detection\n",
    "    hr = np.round(fs / (0.00001 + np.median(np.diff(onsets))) * 60,0)\n",
    "    hr_records.append(hr)\n",
    "    ppg_records.append(ppg)\n",
    "    sys_records.append(sys)\n",
    "    dia_records.append(dia)\n",
    "    bp_records.append(get_hypertension_label(sys,dia))\n",
    "  return ppg_records, sys_records, dia_records, hr_records, bp_records"
   ]
  },
  {
   "cell_type": "code",
   "execution_count": 5,
   "id": "13ea3565",
   "metadata": {},
   "outputs": [],
   "source": [
    "def create_mimiciii_dataset(address):\n",
    "    adr_all = glob.glob(address)\n",
    "    bp_classes = []\n",
    "    ppg_all = []\n",
    "    hr_all = []\n",
    "    for adr in tqdm(adr_all):\n",
    "        ppg_records, sys_records, dia_records, hr_records, bp_records = get_mimiciii_record(adr)\n",
    "        ppg_all.extend(ppg_records)\n",
    "        bp_classes.extend(bp_records)\n",
    "        hr_all.extend(hr_records)\n",
    "    return ppg_all, hr_all, bp_classes"
   ]
  },
  {
   "cell_type": "code",
   "execution_count": 6,
   "id": "51654f12",
   "metadata": {
    "scrolled": true
   },
   "outputs": [
    {
     "name": "stderr",
     "output_type": "stream",
     "text": [
      "100%|████████████████████████████████████████████████████████████████████████████| 1000/1000 [1:14:58<00:00,  4.50s/it]\n"
     ]
    }
   ],
   "source": [
    "X_train, X_HR_train, y_train = create_mimiciii_dataset(train_records_adr)"
   ]
  },
  {
   "cell_type": "code",
   "execution_count": 7,
   "id": "11b5e0e4",
   "metadata": {},
   "outputs": [
    {
     "name": "stderr",
     "output_type": "stream",
     "text": [
      " 94%|███████████████████████████████████████████████████████████████████████████▌    | 236/250 [17:37<01:10,  5.04s/it]C:\\Users\\16478\\anaconda3\\envs\\keras_gpu\\lib\\site-packages\\numpy\\core\\fromnumeric.py:3432: RuntimeWarning: Mean of empty slice.\n",
      "  return _methods._mean(a, axis=axis, dtype=dtype,\n",
      "C:\\Users\\16478\\anaconda3\\envs\\keras_gpu\\lib\\site-packages\\numpy\\core\\_methods.py:190: RuntimeWarning: invalid value encountered in double_scalars\n",
      "  ret = ret.dtype.type(ret / rcount)\n",
      "100%|████████████████████████████████████████████████████████████████████████████████| 250/250 [18:47<00:00,  4.51s/it]\n"
     ]
    }
   ],
   "source": [
    "X_test, X_HR_test, y_test = create_mimiciii_dataset(test_records_adr)"
   ]
  },
  {
   "cell_type": "code",
   "execution_count": 8,
   "id": "49ecf5e5",
   "metadata": {},
   "outputs": [],
   "source": [
    "X_train = np.array(X_train)\n",
    "X_test = np.array(X_test)\n",
    "X_HR_train = np.array(X_HR_train).reshape(-1,1)\n",
    "X_HR_test = np.array(X_HR_test).reshape(-1,1)\n",
    "y_train = np.array(y_train)\n",
    "y_test = np.array(y_test)"
   ]
  },
  {
   "cell_type": "code",
   "execution_count": 9,
   "id": "6a96038c",
   "metadata": {},
   "outputs": [
    {
     "name": "stdout",
     "output_type": "stream",
     "text": [
      "X_train:  (1000000, 875)\n",
      "X_test:  (250000, 875)\n",
      "X_HR_train:  (1000000, 1)\n",
      "X_HR_test:  (250000, 1)\n",
      "y_train:  (1000000,)\n",
      "y_test:  (250000,)\n"
     ]
    }
   ],
   "source": [
    "print(\"X_train: \", X_train.shape)\n",
    "print(\"X_test: \", X_test.shape)\n",
    "print(\"X_HR_train: \", X_HR_train.shape)\n",
    "print(\"X_HR_test: \", X_HR_test.shape)\n",
    "print(\"y_train: \", y_train.shape)\n",
    "print(\"y_test: \", y_test.shape)"
   ]
  },
  {
   "cell_type": "markdown",
   "id": "196637c0",
   "metadata": {},
   "source": [
    "#### The histogram of the training set"
   ]
  },
  {
   "cell_type": "code",
   "execution_count": 10,
   "id": "cb1b4a83",
   "metadata": {},
   "outputs": [],
   "source": [
    "import pandas as pd\n",
    "import matplotlib.pyplot as plt\n",
    "import seaborn as sn"
   ]
  },
  {
   "cell_type": "code",
   "execution_count": 11,
   "id": "32f7cee2",
   "metadata": {},
   "outputs": [
    {
     "data": {
      "text/plain": [
       "([<matplotlib.axis.XTick at 0x1be60ea4550>,\n",
       "  <matplotlib.axis.XTick at 0x1be60ea4520>],\n",
       " [Text(0, 0, 'Normal'), Text(1, 0, 'Hypertension')])"
      ]
     },
     "execution_count": 11,
     "metadata": {},
     "output_type": "execute_result"
    },
    {
     "data": {
      "image/png": "[encoded data removed]",
      "text/plain": [
       "<Figure size 400x300 with 1 Axes>"
      ]
     },
     "metadata": {},
     "output_type": "display_data"
    }
   ],
   "source": [
    "plt.figure(figsize=(4,3))\n",
    "sn.histplot(\n",
    "    data=y_train,   \n",
    "    discrete=True,\n",
    "    stat='probability'\n",
    ")\n",
    "plt.ylabel('Ratio')\n",
    "plt.title(\"Imbalanced Normal/Hypertension Training Set\")\n",
    "plt.xticks([0,1], ['Normal','Hypertension'])"
   ]
  },
  {
   "cell_type": "markdown",
   "id": "98d82a50",
   "metadata": {},
   "source": [
    "#### A sample of PPG in the training set"
   ]
  },
  {
   "cell_type": "code",
   "execution_count": 12,
   "id": "de92ddc0",
   "metadata": {},
   "outputs": [
    {
     "data": {
      "text/plain": [
       "Text(0.5, 0, 'Sample')"
      ]
     },
     "execution_count": 12,
     "metadata": {},
     "output_type": "execute_result"
    },
    {
     "data": {
      "image/png": "[encoded data removed]",
      "text/plain": [
       "<Figure size 400x300 with 1 Axes>"
      ]
     },
     "metadata": {},
     "output_type": "display_data"
    }
   ],
   "source": [
    "plt.figure(figsize=(4,3))\n",
    "plt.plot(X_train[600][0:200])\n",
    "plt.ylabel(\"PPG\")\n",
    "plt.xlabel(\"Sample\")"
   ]
  },
  {
   "cell_type": "markdown",
   "id": "fcb83904",
   "metadata": {},
   "source": [
    "## Feature Extraction using MiniROCKET"
   ]
  },
  {
   "cell_type": "code",
   "execution_count": 13,
   "id": "62cb6040",
   "metadata": {},
   "outputs": [],
   "source": [
    "from minirocket_multivariate import fit\n",
    "from minirocket_multivariate import transform"
   ]
  },
  {
   "cell_type": "code",
   "execution_count": 14,
   "id": "9bb41f21",
   "metadata": {},
   "outputs": [],
   "source": [
    "X_train_part = X_train[:int(training_data_ratio*len(X_train))]\n",
    "y_train_part = y_train[:int(training_data_ratio*len(y_train))]"
   ]
  },
  {
   "cell_type": "code",
   "execution_count": 15,
   "id": "cee8624a",
   "metadata": {},
   "outputs": [],
   "source": [
    "X_test = X_test[:,np.newaxis,:]\n",
    "X_train_part = X_train_part[:,np.newaxis,:]"
   ]
  },
  {
   "cell_type": "code",
   "execution_count": 16,
   "id": "bc9baf89",
   "metadata": {},
   "outputs": [
    {
     "name": "stdout",
     "output_type": "stream",
     "text": [
      "X_train_part:  (100000, 1, 875)\n",
      "X_test:  (250000, 1, 875)\n"
     ]
    }
   ],
   "source": [
    "print(\"X_train_part: \", X_train_part.shape)\n",
    "print(\"X_test: \", X_test.shape)"
   ]
  },
  {
   "cell_type": "code",
   "execution_count": 17,
   "id": "ffc81dc5",
   "metadata": {},
   "outputs": [],
   "source": [
    "X_train_part = X_train_part.astype(np.float32)\n",
    "X_test = X_test.astype(np.float32)"
   ]
  },
  {
   "cell_type": "code",
   "execution_count": 18,
   "id": "0c97a481",
   "metadata": {},
   "outputs": [],
   "source": [
    "parameters = fit(X_train_part, num_features=10000)\n",
    "X_training_transform = transform(X_train_part, parameters)"
   ]
  },
  {
   "cell_type": "code",
   "execution_count": 19,
   "id": "290d2e55",
   "metadata": {},
   "outputs": [],
   "source": [
    "X_test_transform = transform(X_test, parameters)"
   ]
  },
  {
   "cell_type": "code",
   "execution_count": 35,
   "id": "f465195e",
   "metadata": {},
   "outputs": [],
   "source": [
    "X_training_minirocket = X_training_transform\n",
    "X_test_minirocket = X_test_transform"
   ]
  },
  {
   "cell_type": "code",
   "execution_count": 36,
   "id": "a444710c",
   "metadata": {},
   "outputs": [],
   "source": [
    "X_train_mean = X_training_minirocket.mean(0)\n",
    "X_train_std = X_training_minirocket.std(0)\n",
    "\n",
    "\n",
    "X_train_minirocket = X_training_minirocket -X_train_mean\n",
    "X_train_minirocket = X_train_minirocket / (X_train_std + 0.00001)\n",
    "\n",
    "\n",
    "X_test_minirocket = X_test_minirocket - X_train_mean\n",
    "X_test_minirocket = X_test_minirocket / (X_train_std + 0.00001)"
   ]
  },
  {
   "cell_type": "markdown",
   "id": "edb6f4f1",
   "metadata": {},
   "source": [
    "## Training and Testing Models"
   ]
  },
  {
   "cell_type": "code",
   "execution_count": 22,
   "id": "a2dcc706",
   "metadata": {},
   "outputs": [],
   "source": [
    "from imblearn.ensemble import BalancedRandomForestClassifier\n",
    "from sklearn.linear_model import LogisticRegression\n",
    "from sklearn.linear_model import RidgeClassifierCV\n",
    "from sklearn.metrics import confusion_matrix\n",
    "from sklearn.metrics import f1_score\n",
    "from sklearn.metrics import precision_score\n",
    "from sklearn.metrics import classification_report"
   ]
  },
  {
   "cell_type": "markdown",
   "id": "d2439096",
   "metadata": {},
   "source": [
    "### Model: Heart-rate + RidgeClassifierCV"
   ]
  },
  {
   "cell_type": "code",
   "execution_count": 37,
   "id": "45098c14",
   "metadata": {},
   "outputs": [],
   "source": [
    "X_HR_train_part = X_HR_train[:int(training_data_ratio*len(y_train))]"
   ]
  },
  {
   "cell_type": "code",
   "execution_count": 41,
   "id": "971d4739",
   "metadata": {},
   "outputs": [],
   "source": [
    "# Remove NaNs\n",
    "col_mean = np.nanmean(X_HR_train_part, axis=0)\n",
    "inds = np.where(np.isnan(X_HR_train_part))\n",
    "X_HR_train_part[inds] = np.take(col_mean, inds[1])\n",
    "inds = np.where(np.isnan(X_HR_test))\n",
    "X_HR_test[inds] = np.take(col_mean, inds[1])"
   ]
  },
  {
   "cell_type": "code",
   "execution_count": 42,
   "id": "e8c055e6",
   "metadata": {},
   "outputs": [],
   "source": [
    "clf = RidgeClassifierCV(class_weight=\"balanced\")"
   ]
  },
  {
   "cell_type": "code",
   "execution_count": 43,
   "id": "b36fdacc",
   "metadata": {},
   "outputs": [
    {
     "data": {
      "text/html": [
       "<style>#sk-container-id-4 {color: black;background-color: white;}#sk-container-id-4 pre{padding: 0;}#sk-container-id-4 div.sk-toggleable {background-color: white;}#sk-container-id-4 label.sk-toggleable__label {cursor: pointer;display: block;width: 100%;margin-bottom: 0;padding: 0.3em;box-sizing: border-box;text-align: center;}#sk-container-id-4 label.sk-toggleable__label-arrow:before {content: \"▸\";float: left;margin-right: 0.25em;color: #696969;}#sk-container-id-4 label.sk-toggleable__label-arrow:hover:before {color: black;}#sk-container-id-4 div.sk-estimator:hover label.sk-toggleable__label-arrow:before {color: black;}#sk-container-id-4 div.sk-toggleable__content {max-height: 0;max-width: 0;overflow: hidden;text-align: left;background-color: #f0f8ff;}#sk-container-id-4 div.sk-toggleable__content pre {margin: 0.2em;color: black;border-radius: 0.25em;background-color: #f0f8ff;}#sk-container-id-4 input.sk-toggleable__control:checked~div.sk-toggleable__content {max-height: 200px;max-width: 100%;overflow: auto;}#sk-container-id-4 input.sk-toggleable__control:checked~label.sk-toggleable__label-arrow:before {content: \"▾\";}#sk-container-id-4 div.sk-estimator input.sk-toggleable__control:checked~label.sk-toggleable__label {background-color: #d4ebff;}#sk-container-id-4 div.sk-label input.sk-toggleable__control:checked~label.sk-toggleable__label {background-color: #d4ebff;}#sk-container-id-4 input.sk-hidden--visually {border: 0;clip: rect(1px 1px 1px 1px);clip: rect(1px, 1px, 1px, 1px);height: 1px;margin: -1px;overflow: hidden;padding: 0;position: absolute;width: 1px;}#sk-container-id-4 div.sk-estimator {font-family: monospace;background-color: #f0f8ff;border: 1px dotted black;border-radius: 0.25em;box-sizing: border-box;margin-bottom: 0.5em;}#sk-container-id-4 div.sk-estimator:hover {background-color: #d4ebff;}#sk-container-id-4 div.sk-parallel-item::after {content: \"\";width: 100%;border-bottom: 1px solid gray;flex-grow: 1;}#sk-container-id-4 div.sk-label:hover label.sk-toggleable__label {background-color: #d4ebff;}#sk-container-id-4 div.sk-serial::before {content: \"\";position: absolute;border-left: 1px solid gray;box-sizing: border-box;top: 0;bottom: 0;left: 50%;z-index: 0;}#sk-container-id-4 div.sk-serial {display: flex;flex-direction: column;align-items: center;background-color: white;padding-right: 0.2em;padding-left: 0.2em;position: relative;}#sk-container-id-4 div.sk-item {position: relative;z-index: 1;}#sk-container-id-4 div.sk-parallel {display: flex;align-items: stretch;justify-content: center;background-color: white;position: relative;}#sk-container-id-4 div.sk-item::before, #sk-container-id-4 div.sk-parallel-item::before {content: \"\";position: absolute;border-left: 1px solid gray;box-sizing: border-box;top: 0;bottom: 0;left: 50%;z-index: -1;}#sk-container-id-4 div.sk-parallel-item {display: flex;flex-direction: column;z-index: 1;position: relative;background-color: white;}#sk-container-id-4 div.sk-parallel-item:first-child::after {align-self: flex-end;width: 50%;}#sk-container-id-4 div.sk-parallel-item:last-child::after {align-self: flex-start;width: 50%;}#sk-container-id-4 div.sk-parallel-item:only-child::after {width: 0;}#sk-container-id-4 div.sk-dashed-wrapped {border: 1px dashed gray;margin: 0 0.4em 0.5em 0.4em;box-sizing: border-box;padding-bottom: 0.4em;background-color: white;}#sk-container-id-4 div.sk-label label {font-family: monospace;font-weight: bold;display: inline-block;line-height: 1.2em;}#sk-container-id-4 div.sk-label-container {text-align: center;}#sk-container-id-4 div.sk-container {/* jupyter's `normalize.less` sets `[hidden] { display: none; }` but bootstrap.min.css set `[hidden] { display: none !important; }` so we also need the `!important` here to be able to override the default hidden behavior on the sphinx rendered scikit-learn.org. See: https://github.com/scikit-learn/scikit-learn/issues/21755 */display: inline-block !important;position: relative;}#sk-container-id-4 div.sk-text-repr-fallback {display: none;}</style><div id=\"sk-container-id-4\" class=\"sk-top-container\"><div class=\"sk-text-repr-fallback\"><pre>RidgeClassifierCV(class_weight=&#x27;balanced&#x27;)</pre><b>In a Jupyter environment, please rerun this cell to show the HTML representation or trust the notebook. <br />On GitHub, the HTML representation is unable to render, please try loading this page with nbviewer.org.</b></div><div class=\"sk-container\" hidden><div class=\"sk-item\"><div class=\"sk-estimator sk-toggleable\"><input class=\"sk-toggleable__control sk-hidden--visually\" id=\"sk-estimator-id-4\" type=\"checkbox\" checked><label for=\"sk-estimator-id-4\" class=\"sk-toggleable__label sk-toggleable__label-arrow\">RidgeClassifierCV</label><div class=\"sk-toggleable__content\"><pre>RidgeClassifierCV(class_weight=&#x27;balanced&#x27;)</pre></div></div></div></div></div>"
      ],
      "text/plain": [
       "RidgeClassifierCV(class_weight='balanced')"
      ]
     },
     "execution_count": 43,
     "metadata": {},
     "output_type": "execute_result"
    }
   ],
   "source": [
    "clf.fit(X_HR_train_part, y_train_part)"
   ]
  },
  {
   "cell_type": "code",
   "execution_count": 44,
   "id": "94ae1caf",
   "metadata": {},
   "outputs": [],
   "source": [
    "predictions = clf.predict(X_HR_test)\n",
    "accuracy = np.mean(predictions==y_test)"
   ]
  },
  {
   "cell_type": "code",
   "execution_count": 45,
   "id": "3860d24b",
   "metadata": {},
   "outputs": [
    {
     "name": "stdout",
     "output_type": "stream",
     "text": [
      "Results (using 10.0% of training set)\n",
      "              precision    recall  f1-score   support\n",
      "\n",
      "      Normal       0.79      0.50      0.61    195972\n",
      "Hypertension       0.22      0.53      0.32     54028\n",
      "\n",
      "    accuracy                           0.50    250000\n",
      "   macro avg       0.51      0.51      0.46    250000\n",
      "weighted avg       0.67      0.50      0.55    250000\n",
      "\n"
     ]
    }
   ],
   "source": [
    "print(\"Results (using {}% of training set)\".format(training_data_ratio*100))\n",
    "print(classification_report(y_test,predictions, target_names=['Normal', 'Hypertension']))"
   ]
  },
  {
   "cell_type": "code",
   "execution_count": 46,
   "id": "7b89ff75",
   "metadata": {},
   "outputs": [
    {
     "name": "stdout",
     "output_type": "stream",
     "text": [
      "Model: HR + RidgeClassifierCV - using 10.0% of training set\n"
     ]
    },
    {
     "data": {
      "image/png": "[encoded data removed]",
      "text/plain": [
       "<Figure size 400x300 with 2 Axes>"
      ]
     },
     "metadata": {},
     "output_type": "display_data"
    }
   ],
   "source": [
    "matrix = confusion_matrix(y_test, predictions, labels=[0,1]).astype(np.float32)\n",
    "s = matrix.sum(axis=1)\n",
    "for i in range(2):\n",
    "    matrix[i,:]=matrix[i,:] /s[i]\n",
    "matrix = np.round(matrix,3)  * 100\n",
    "df_cm = pd.DataFrame(matrix, ['Normal', 'Hypertension'], ['Normal', 'Hypertension'])\n",
    "plt.figure(figsize=(4,3))\n",
    "sn.set(font_scale=1.4) # for label size\n",
    "sn.heatmap(df_cm, annot=True, annot_kws={\"size\": 16}, fmt='.1f') # font size\n",
    "print(\"Model: HR + RidgeClassifierCV - using {}% of training set\".format(training_data_ratio*100))\n",
    "plt.show()"
   ]
  },
  {
   "cell_type": "markdown",
   "id": "4c03a85e",
   "metadata": {},
   "source": [
    "### Model: MiniROCKET + BalancedRandomForestClassifier"
   ]
  },
  {
   "cell_type": "code",
   "execution_count": 47,
   "id": "a22bc993",
   "metadata": {},
   "outputs": [],
   "source": [
    "clf = BalancedRandomForestClassifier(n_estimators=100, n_jobs=-1)"
   ]
  },
  {
   "cell_type": "code",
   "execution_count": 48,
   "id": "0676a952",
   "metadata": {},
   "outputs": [
    {
     "data": {
      "text/html": [
       "<style>#sk-container-id-5 {color: black;background-color: white;}#sk-container-id-5 pre{padding: 0;}#sk-container-id-5 div.sk-toggleable {background-color: white;}#sk-container-id-5 label.sk-toggleable__label {cursor: pointer;display: block;width: 100%;margin-bottom: 0;padding: 0.3em;box-sizing: border-box;text-align: center;}#sk-container-id-5 label.sk-toggleable__label-arrow:before {content: \"▸\";float: left;margin-right: 0.25em;color: #696969;}#sk-container-id-5 label.sk-toggleable__label-arrow:hover:before {color: black;}#sk-container-id-5 div.sk-estimator:hover label.sk-toggleable__label-arrow:before {color: black;}#sk-container-id-5 div.sk-toggleable__content {max-height: 0;max-width: 0;overflow: hidden;text-align: left;background-color: #f0f8ff;}#sk-container-id-5 div.sk-toggleable__content pre {margin: 0.2em;color: black;border-radius: 0.25em;background-color: #f0f8ff;}#sk-container-id-5 input.sk-toggleable__control:checked~div.sk-toggleable__content {max-height: 200px;max-width: 100%;overflow: auto;}#sk-container-id-5 input.sk-toggleable__control:checked~label.sk-toggleable__label-arrow:before {content: \"▾\";}#sk-container-id-5 div.sk-estimator input.sk-toggleable__control:checked~label.sk-toggleable__label {background-color: #d4ebff;}#sk-container-id-5 div.sk-label input.sk-toggleable__control:checked~label.sk-toggleable__label {background-color: #d4ebff;}#sk-container-id-5 input.sk-hidden--visually {border: 0;clip: rect(1px 1px 1px 1px);clip: rect(1px, 1px, 1px, 1px);height: 1px;margin: -1px;overflow: hidden;padding: 0;position: absolute;width: 1px;}#sk-container-id-5 div.sk-estimator {font-family: monospace;background-color: #f0f8ff;border: 1px dotted black;border-radius: 0.25em;box-sizing: border-box;margin-bottom: 0.5em;}#sk-container-id-5 div.sk-estimator:hover {background-color: #d4ebff;}#sk-container-id-5 div.sk-parallel-item::after {content: \"\";width: 100%;border-bottom: 1px solid gray;flex-grow: 1;}#sk-container-id-5 div.sk-label:hover label.sk-toggleable__label {background-color: #d4ebff;}#sk-container-id-5 div.sk-serial::before {content: \"\";position: absolute;border-left: 1px solid gray;box-sizing: border-box;top: 0;bottom: 0;left: 50%;z-index: 0;}#sk-container-id-5 div.sk-serial {display: flex;flex-direction: column;align-items: center;background-color: white;padding-right: 0.2em;padding-left: 0.2em;position: relative;}#sk-container-id-5 div.sk-item {position: relative;z-index: 1;}#sk-container-id-5 div.sk-parallel {display: flex;align-items: stretch;justify-content: center;background-color: white;position: relative;}#sk-container-id-5 div.sk-item::before, #sk-container-id-5 div.sk-parallel-item::before {content: \"\";position: absolute;border-left: 1px solid gray;box-sizing: border-box;top: 0;bottom: 0;left: 50%;z-index: -1;}#sk-container-id-5 div.sk-parallel-item {display: flex;flex-direction: column;z-index: 1;position: relative;background-color: white;}#sk-container-id-5 div.sk-parallel-item:first-child::after {align-self: flex-end;width: 50%;}#sk-container-id-5 div.sk-parallel-item:last-child::after {align-self: flex-start;width: 50%;}#sk-container-id-5 div.sk-parallel-item:only-child::after {width: 0;}#sk-container-id-5 div.sk-dashed-wrapped {border: 1px dashed gray;margin: 0 0.4em 0.5em 0.4em;box-sizing: border-box;padding-bottom: 0.4em;background-color: white;}#sk-container-id-5 div.sk-label label {font-family: monospace;font-weight: bold;display: inline-block;line-height: 1.2em;}#sk-container-id-5 div.sk-label-container {text-align: center;}#sk-container-id-5 div.sk-container {/* jupyter's `normalize.less` sets `[hidden] { display: none; }` but bootstrap.min.css set `[hidden] { display: none !important; }` so we also need the `!important` here to be able to override the default hidden behavior on the sphinx rendered scikit-learn.org. See: https://github.com/scikit-learn/scikit-learn/issues/21755 */display: inline-block !important;position: relative;}#sk-container-id-5 div.sk-text-repr-fallback {display: none;}</style><div id=\"sk-container-id-5\" class=\"sk-top-container\"><div class=\"sk-text-repr-fallback\"><pre>BalancedRandomForestClassifier(n_jobs=-1)</pre><b>In a Jupyter environment, please rerun this cell to show the HTML representation or trust the notebook. <br />On GitHub, the HTML representation is unable to render, please try loading this page with nbviewer.org.</b></div><div class=\"sk-container\" hidden><div class=\"sk-item\"><div class=\"sk-estimator sk-toggleable\"><input class=\"sk-toggleable__control sk-hidden--visually\" id=\"sk-estimator-id-5\" type=\"checkbox\" checked><label for=\"sk-estimator-id-5\" class=\"sk-toggleable__label sk-toggleable__label-arrow\">BalancedRandomForestClassifier</label><div class=\"sk-toggleable__content\"><pre>BalancedRandomForestClassifier(n_jobs=-1)</pre></div></div></div></div></div>"
      ],
      "text/plain": [
       "BalancedRandomForestClassifier(n_jobs=-1)"
      ]
     },
     "execution_count": 48,
     "metadata": {},
     "output_type": "execute_result"
    }
   ],
   "source": [
    "clf.fit(X_train_minirocket, y_train_part)"
   ]
  },
  {
   "cell_type": "code",
   "execution_count": 49,
   "id": "62ced4c0",
   "metadata": {},
   "outputs": [],
   "source": [
    "predictions = clf.predict(X_test_minirocket)\n",
    "accuracy = np.mean(predictions==y_test)"
   ]
  },
  {
   "cell_type": "code",
   "execution_count": 50,
   "id": "5d240bd8",
   "metadata": {},
   "outputs": [
    {
     "name": "stdout",
     "output_type": "stream",
     "text": [
      "Results (using 10.0% of training set)\n",
      "              precision    recall  f1-score   support\n",
      "\n",
      "      Normal       0.87      0.65      0.75    195972\n",
      "Hypertension       0.34      0.66      0.45     54028\n",
      "\n",
      "    accuracy                           0.65    250000\n",
      "   macro avg       0.61      0.65      0.60    250000\n",
      "weighted avg       0.76      0.65      0.68    250000\n",
      "\n"
     ]
    }
   ],
   "source": [
    "print(\"Results (using {}% of training set)\".format(training_data_ratio*100))\n",
    "print(classification_report(y_test,predictions, target_names=['Normal', 'Hypertension']))"
   ]
  },
  {
   "cell_type": "code",
   "execution_count": 51,
   "id": "4371ef94",
   "metadata": {},
   "outputs": [
    {
     "name": "stdout",
     "output_type": "stream",
     "text": [
      "Model: MiniROCKET + BalancedRandomForestClassifier - using 10.0% of training set\n"
     ]
    },
    {
     "data": {
      "image/png": "[encoded data removed]",
      "text/plain": [
       "<Figure size 400x300 with 2 Axes>"
      ]
     },
     "metadata": {},
     "output_type": "display_data"
    }
   ],
   "source": [
    "matrix = confusion_matrix(y_test, predictions, labels=[0,1]).astype(np.float32)\n",
    "s = matrix.sum(axis=1)\n",
    "for i in range(2):\n",
    "    matrix[i,:]=matrix[i,:] /s[i]\n",
    "matrix = np.round(matrix,3)  * 100\n",
    "df_cm = pd.DataFrame(matrix, ['Normal', 'Hypertension'], ['Normal', 'Hypertension'])\n",
    "plt.figure(figsize=(4,3))\n",
    "sn.set(font_scale=1.4) # for label size\n",
    "sn.heatmap(df_cm, annot=True, annot_kws={\"size\": 16}, fmt='.1f') # font size\n",
    "print(\"Model: MiniROCKET + BalancedRandomForestClassifier - using {}% of training set\".format(training_data_ratio*100))\n",
    "plt.show()"
   ]
  }
 ],
 "metadata": {
  "kernelspec": {
   "display_name": "Python 3 (ipykernel)",
   "language": "python",
   "name": "python3"
  },
  "language_info": {
   "codemirror_mode": {
    "name": "ipython",
    "version": 3
   },
   "file_extension": ".py",
   "mimetype": "text/x-python",
   "name": "python",
   "nbconvert_exporter": "python",
   "pygments_lexer": "ipython3",
   "version": "3.8.13"
  }
 },
 "nbformat": 4,
 "nbformat_minor": 5
}
